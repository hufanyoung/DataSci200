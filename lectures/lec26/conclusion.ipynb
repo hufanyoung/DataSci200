{
 "cells": [
  {
   "cell_type": "code",
   "execution_count": null,
   "metadata": {},
   "outputs": [],
   "source": [
    "import numpy as np\n",
    "import pandas as pd\n",
    "import matplotlib.pyplot as plt\n",
    "import seaborn as sns\n",
    "%matplotlib inline\n",
    "\n",
    "plt.rcParams['figure.figsize'] = (4, 4)\n",
    "plt.rcParams['figure.dpi'] = 150\n",
    "plt.rcParams['lines.linewidth'] = 3\n",
    "sns.set()"
   ]
  },
  {
   "cell_type": "markdown",
   "metadata": {},
   "source": [
    "### Manhattan Taxis"
   ]
  },
  {
   "cell_type": "code",
   "execution_count": null,
   "metadata": {},
   "outputs": [],
   "source": [
    "def taxi_scatter(t, prefix='pickup'):\n",
    "    plt.scatter(t[prefix + '_lon'], t[prefix + '_lat'], s=2, alpha=0.2)\n",
    "    plt.xticks(np.arange(-74.02, -73.921, 0.04))\n",
    "    plt.yticks(np.arange(40.7, 40.9, 0.04))\n",
    "    plt.xlabel('Longitude')\n",
    "    plt.ylabel('Latitude')\n",
    "    plt.title(prefix + ' locations')\n",
    "    \n",
    "taxi = pd.read_csv('manhattan_taxi.csv')\n",
    "plt.figure(figsize=(3, 8))\n",
    "taxi_scatter(taxi)"
   ]
  },
  {
   "cell_type": "code",
   "execution_count": null,
   "metadata": {},
   "outputs": [],
   "source": [
    "plt.figure(figsize=(3, 8))\n",
    "taxi_scatter(taxi, 'dropoff')\n",
    "taxi_scatter(taxi, 'pickup')\n",
    "plt.legend();"
   ]
  },
  {
   "cell_type": "markdown",
   "metadata": {},
   "source": [
    "Which are reasonable explanations of the data based on the plot above?\n",
    "- (a) pick-up and drop-off locations are like random samples from the **same** distribution\n",
    "- (b) pick-up and drop-off locations are like random samples from **different** distributions\n",
    "- (c) there are **fewer** pick-ups than drop-offs\n",
    "- (d) there are **more** pick-ups than drop-offs\n",
    "- (e) the total variance of drop-off location is **higher** than pick-up location\n",
    "- (f) the total variance of drop-off location is **lower** than pick-up location"
   ]
  },
  {
   "cell_type": "code",
   "execution_count": null,
   "metadata": {},
   "outputs": [],
   "source": [
    "taxi.loc[:, 'south_of_40.75'] = taxi['pickup_lat'] < 40.75\n",
    "plt.figure(figsize=(3, 8))\n",
    "taxi_scatter(taxi[taxi['south_of_40.75'] == True])\n",
    "taxi_scatter(taxi[taxi['south_of_40.75'] == False])"
   ]
  },
  {
   "cell_type": "markdown",
   "metadata": {},
   "source": [
    "### Qcut"
   ]
  },
  {
   "cell_type": "code",
   "execution_count": null,
   "metadata": {},
   "outputs": [],
   "source": [
    "r = np.random.normal(0, 1, 100)\n",
    "r"
   ]
  },
  {
   "cell_type": "code",
   "execution_count": null,
   "metadata": {},
   "outputs": [],
   "source": [
    "pd.qcut(r, 5)"
   ]
  },
  {
   "cell_type": "code",
   "execution_count": null,
   "metadata": {},
   "outputs": [],
   "source": [
    "bins = pd.qcut(r, 5, labels=[1, 2, 3, 4, 5])\n",
    "bins"
   ]
  },
  {
   "cell_type": "code",
   "execution_count": null,
   "metadata": {},
   "outputs": [],
   "source": [
    "plt.hist(r, bins=30);"
   ]
  },
  {
   "cell_type": "code",
   "execution_count": null,
   "metadata": {},
   "outputs": [],
   "source": [
    "bins.value_counts()"
   ]
  },
  {
   "cell_type": "markdown",
   "metadata": {},
   "source": [
    "Discussion question: what will the following "
   ]
  },
  {
   "cell_type": "code",
   "execution_count": null,
   "metadata": {},
   "outputs": [],
   "source": [
    "sns.boxplot(bins, r);"
   ]
  },
  {
   "cell_type": "code",
   "execution_count": null,
   "metadata": {},
   "outputs": [],
   "source": [
    "taxi.loc[:, 'ns'] = pd.qcut(taxi['pickup_lat'], 2, labels=['south', 'north'])\n",
    "plt.figure(figsize=(3, 8))\n",
    "taxi_scatter(taxi[taxi['ns'] == 'north'])\n",
    "taxi_scatter(taxi[taxi['ns'] == 'south'])"
   ]
  },
  {
   "cell_type": "code",
   "execution_count": null,
   "metadata": {},
   "outputs": [],
   "source": [
    "groups = 5\n",
    "taxi.loc[:, 'group'] = pd.qcut(taxi['pickup_lat'], groups, labels=np.arange(groups))\n",
    "plt.figure(figsize=(3, 8))\n",
    "for group in np.arange(groups):\n",
    "    taxi_scatter(taxi[taxi['group'] == group])"
   ]
  },
  {
   "cell_type": "code",
   "execution_count": null,
   "metadata": {},
   "outputs": [],
   "source": [
    "def group_by(values, num_regions):\n",
    "    taxi.loc[:, 'group'] = pd.qcut(values, num_regions, \n",
    "                                   labels=np.arange(num_regions))\n",
    "\n",
    "    plt.figure(figsize=(3, 8))\n",
    "    for group in np.arange(num_regions):\n",
    "        taxi_scatter(taxi[taxi['group'] == group])\n",
    "        \n",
    "group_by(taxi['pickup_lat'], 5)"
   ]
  },
  {
   "cell_type": "markdown",
   "metadata": {},
   "source": [
    "### PCA for region splitting"
   ]
  },
  {
   "cell_type": "code",
   "execution_count": null,
   "metadata": {},
   "outputs": [],
   "source": [
    "D = taxi[['pickup_lon', 'pickup_lat']].values\n",
    "X = (D - np.mean(D, axis=0)) \n",
    "\n",
    "plt.figure(figsize=(3, 8))\n",
    "plt.scatter(X[:, 0], X[:, 1], s=2, alpha=0.2);"
   ]
  },
  {
   "cell_type": "code",
   "execution_count": null,
   "metadata": {},
   "outputs": [],
   "source": [
    "from ipywidgets import interact\n",
    "\n",
    "def group_direction(slope):\n",
    "    direction = X @ np.array([1, slope])\n",
    "    group_by(direction, 3)\n",
    "    plt.figure(figsize=(3, 2))\n",
    "    plt.hist(direction)\n",
    "    \n",
    "interact(group_direction, slope=(1, 3, 0.2));"
   ]
  },
  {
   "cell_type": "code",
   "execution_count": null,
   "metadata": {},
   "outputs": [],
   "source": [
    "# Find the first principle component\n",
    "u, s, vt = np.linalg.svd(X / np.sqrt(D.shape[0]), \n",
    "                         full_matrices=False)\n",
    "vt.T[:, 0]"
   ]
  },
  {
   "cell_type": "code",
   "execution_count": null,
   "metadata": {},
   "outputs": [],
   "source": [
    "first_pc = X @ vt.T[:, 0]\n",
    "plt.hist(first_pc);"
   ]
  },
  {
   "cell_type": "code",
   "execution_count": null,
   "metadata": {},
   "outputs": [],
   "source": [
    "group_by(first_pc, 3)"
   ]
  },
  {
   "cell_type": "code",
   "execution_count": null,
   "metadata": {},
   "outputs": [],
   "source": [
    "group_by(first_pc, 7)"
   ]
  },
  {
   "cell_type": "markdown",
   "metadata": {},
   "source": [
    "Discussion question: what will the following outputs look like?"
   ]
  },
  {
   "cell_type": "code",
   "execution_count": null,
   "metadata": {},
   "outputs": [],
   "source": [
    "# Not too difficult\n",
    "group_by(X @ vt.T[:, 1], 3)"
   ]
  },
  {
   "cell_type": "code",
   "execution_count": null,
   "metadata": {},
   "outputs": [],
   "source": [
    "# More difficult!\n",
    "v = (X @ vt.T[:, 0] > 0) + 2 * (X @ vt.T[:, 1] > 0)\n",
    "plt.figure(figsize=(3, 8))\n",
    "for group in [0, 1, 2, 3]:\n",
    "    taxi_scatter(taxi[v == group])"
   ]
  },
  {
   "cell_type": "markdown",
   "metadata": {},
   "source": [
    "Discussion question: Why aren't the two lines perpendicular?"
   ]
  },
  {
   "cell_type": "code",
   "execution_count": null,
   "metadata": {},
   "outputs": [],
   "source": [
    "v = (X @ vt.T[:, 0] > 0) + 2 * (X @ vt.T[:, 1] > 0)\n",
    "plt.figure(figsize=(5, 8))\n",
    "for group in [0, 1, 2, 3]:\n",
    "    taxi_scatter(taxi[v == group])"
   ]
  },
  {
   "cell_type": "markdown",
   "metadata": {},
   "source": [
    "### Feature engineering"
   ]
  },
  {
   "cell_type": "code",
   "execution_count": null,
   "metadata": {},
   "outputs": [],
   "source": [
    "train = np.array([[4., 2., 6., 4.]]).T\n",
    "test = np.array([[8., 6.]]).T\n",
    "\n",
    "train_mean = np.mean(train)\n",
    "print('train centered:')\n",
    "print(train - train_mean)\n",
    "print('test centered:')\n",
    "print(test - train_mean)"
   ]
  },
  {
   "cell_type": "code",
   "execution_count": null,
   "metadata": {},
   "outputs": [],
   "source": [
    "from sklearn import preprocessing\n",
    "\n",
    "scaler = preprocessing.StandardScaler(with_std=False)\n",
    "scaler.fit(train)\n",
    "print('train centered:')\n",
    "print(scaler.transform(train))\n",
    "print('test centered:')\n",
    "print(scaler.transform(test))"
   ]
  },
  {
   "cell_type": "markdown",
   "metadata": {},
   "source": [
    "Discussion question: is there anything wrong with the way train & test are used in this feature engineering?"
   ]
  },
  {
   "cell_type": "code",
   "execution_count": null,
   "metadata": {},
   "outputs": [],
   "source": [
    "import sklearn.model_selection\n",
    "\n",
    "train, test = sklearn.model_selection.train_test_split(taxi, test_size=0.2, \n",
    "                                                       random_state=42)\n",
    "\n",
    "D_train = train[['pickup_lon', 'pickup_lat']].values\n",
    "D_test  =  test[['pickup_lon', 'pickup_lat']].values\n",
    "train_means = np.mean(D_train, axis=0)\n",
    "X_train = D_train - train_means\n",
    "X_test  =  D_test - train_means\n",
    "groups = [0, 1, 2]\n",
    "\n",
    "train.loc[:, 'group'] = pd.qcut(X_train @ np.array([1, 2.6]), 3, labels=groups)\n",
    "test.loc[:, 'group']  = pd.qcut(X_test  @ np.array([1, 2.6]), 3, labels=groups)\n",
    "\n",
    "plt.figure(figsize=(3, 8))\n",
    "for group in groups:\n",
    "    taxi_scatter(train[train['group'] == group])\n",
    "    taxi_scatter(test[test['group'] == group])"
   ]
  },
  {
   "cell_type": "code",
   "execution_count": null,
   "metadata": {},
   "outputs": [],
   "source": [
    "pd.qcut(X_train @ np.array([1, 2.6]), 3).value_counts()"
   ]
  },
  {
   "cell_type": "code",
   "execution_count": null,
   "metadata": {},
   "outputs": [],
   "source": [
    "pd.qcut(X_test @ np.array([1, 2.6]), 3).value_counts()"
   ]
  },
  {
   "cell_type": "markdown",
   "metadata": {},
   "source": [
    "### Why bin quantitative values?"
   ]
  },
  {
   "cell_type": "code",
   "execution_count": null,
   "metadata": {},
   "outputs": [],
   "source": [
    "x = X_train @ np.array([1, 2.6])\n",
    "y = train['distance'] / train['duration'] * 60 * 60\n",
    "sns.regplot(x, y);"
   ]
  },
  {
   "cell_type": "code",
   "execution_count": null,
   "metadata": {},
   "outputs": [],
   "source": [
    "n = 4\n",
    "x_cut = pd.qcut(x, n, np.arange(n))\n",
    "sns.boxplot(x_cut, y);"
   ]
  },
  {
   "cell_type": "code",
   "execution_count": null,
   "metadata": {},
   "outputs": [],
   "source": [
    "from sklearn.linear_model import LinearRegression\n",
    "\n",
    "model = LinearRegression()\n",
    "model.fit(x.reshape(-1, 1), y)\n",
    "y_hat = model.predict(x.reshape(-1, 1))\n",
    "np.average((y_hat - y)**2) ** 0.5"
   ]
  },
  {
   "cell_type": "code",
   "execution_count": null,
   "metadata": {},
   "outputs": [],
   "source": [
    "means = pd.DataFrame({'x_cut': x_cut, 'y': y}).groupby('x_cut').mean()\n",
    "means"
   ]
  },
  {
   "cell_type": "code",
   "execution_count": null,
   "metadata": {},
   "outputs": [],
   "source": [
    "y_hat = means.loc[x_cut, 'y'].values\n",
    "np.average((y_hat - y)**2) ** 0.5"
   ]
  },
  {
   "cell_type": "code",
   "execution_count": null,
   "metadata": {},
   "outputs": [],
   "source": [
    "x_and_x2 = np.vstack([x, x*x]).T\n",
    "x_and_x2"
   ]
  },
  {
   "cell_type": "code",
   "execution_count": null,
   "metadata": {},
   "outputs": [],
   "source": [
    "from sklearn.linear_model import LinearRegression\n",
    "\n",
    "model = LinearRegression()\n",
    "model = LinearRegression()\n",
    "model.fit(x_and_x2, y)\n",
    "y_hat = model.predict(x_and_x2)\n",
    "np.average((y_hat - y)**2) ** 0.5"
   ]
  }
 ],
 "metadata": {
  "kernelspec": {
   "display_name": "Python 3",
   "language": "python",
   "name": "python3"
  },
  "language_info": {
   "codemirror_mode": {
    "name": "ipython",
    "version": 3
   },
   "file_extension": ".py",
   "mimetype": "text/x-python",
   "name": "python",
   "nbconvert_exporter": "python",
   "pygments_lexer": "ipython3",
   "version": "3.6.7"
  }
 },
 "nbformat": 4,
 "nbformat_minor": 2
}
