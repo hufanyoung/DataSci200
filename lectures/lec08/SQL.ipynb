{
 "cells": [
  {
   "cell_type": "code",
   "execution_count": null,
   "metadata": {},
   "outputs": [],
   "source": [
    "import os\n",
    "import pandas as pd\n",
    "import numpy as np\n",
    "import matplotlib.pyplot as plt\n",
    "import seaborn as sns\n",
    "%matplotlib inline\n",
    "\n",
    "from pathlib import Path\n",
    "from sqlalchemy import create_engine\n",
    "from ds100_utils import fetch_and_cache\n",
    "\n",
    "\n",
    "plt.rcParams['figure.figsize'] = (4, 4)\n",
    "plt.rcParams['figure.dpi'] = 150\n",
    "sns.set()"
   ]
  },
  {
   "cell_type": "code",
   "execution_count": null,
   "metadata": {},
   "outputs": [],
   "source": [
    "# From https://github.com/susam/heart/blob/master/heart.py\n",
    "x = np.linspace(-1, 1, 10001)\n",
    "y1 = np.sqrt(1 - np.abs(x)) * np.sqrt(np.abs(x))\n",
    "y2 = (-3/2) * np.sqrt(1 - np.sqrt((np.abs(x))))\n",
    "plt.plot(x, y1, color='red')\n",
    "plt.plot(x, y2, color='red');"
   ]
  },
  {
   "cell_type": "code",
   "execution_count": null,
   "metadata": {},
   "outputs": [],
   "source": [
    "import sqlite3\n",
    "conn = sqlite3.connect('test.db')"
   ]
  },
  {
   "cell_type": "code",
   "execution_count": null,
   "metadata": {},
   "outputs": [],
   "source": [
    "conn.executescript(\"\"\"\n",
    "DROP TABLE IF EXISTS s;\n",
    "DROP TABLE IF EXISTS t;\n",
    "\n",
    "CREATE TABLE s(\n",
    "    m INTEGER PRIMARY KEY, \n",
    "    u TEXT\n",
    ");\n",
    "\n",
    "INSERT INTO s VALUES \n",
    "    (1, 'W'),\n",
    "    (2, 'X'),\n",
    "    (3, 'X'),\n",
    "    (4, 'Y');\n",
    "\n",
    "CREATE TABLE t(\n",
    "    n TEXT PRIMARY KEY, \n",
    "    v CHAR\n",
    ");\n",
    "\n",
    "INSERT INTO t VALUES \n",
    "    ('A', 'X'),\n",
    "    ('B', 'X'),\n",
    "    ('C', 'Y'),\n",
    "    ('D', 'Z');\n",
    "\"\"\");"
   ]
  },
  {
   "cell_type": "code",
   "execution_count": null,
   "metadata": {},
   "outputs": [],
   "source": [
    "def print_sql(s):\n",
    "    print('>', s)\n",
    "    for result in conn.execute(s):\n",
    "        print(result)\n",
    "\n",
    "print_sql('SELECT * FROM s;')\n",
    "print_sql('SELECT * FROM t;')"
   ]
  },
  {
   "cell_type": "code",
   "execution_count": null,
   "metadata": {},
   "outputs": [],
   "source": [
    "print_sql('SELECT * FROM s, t;')"
   ]
  },
  {
   "cell_type": "code",
   "execution_count": null,
   "metadata": {},
   "outputs": [],
   "source": [
    "print_sql('SELECT * FROM s JOIN t ON s.u = t.v;')\n",
    "print_sql('SELECT * FROM s, t WHERE s.u = t.v;')\n"
   ]
  },
  {
   "cell_type": "code",
   "execution_count": null,
   "metadata": {},
   "outputs": [],
   "source": [
    "print_sql('SELECT s.m, s.u, t.n, t.v FROM t LEFT JOIN s ON s.u = t.v;')\n",
    "print_sql('SELECT s.m, s.u, t.n, t.v FROM s LEFT JOIN t ON s.u = t.v UNION '\n",
    "          'SELECT s.m, s.u, t.n, t.v FROM t LEFT JOIN s ON s.u = t.v;')"
   ]
  },
  {
   "cell_type": "code",
   "execution_count": null,
   "metadata": {},
   "outputs": [],
   "source": [
    "# From https://www.imdb.com/interfaces/\n",
    "fetch_and_cache('https://datasets.imdbws.com/title.basics.tsv.gz', 'titles.tsv.gz')\n",
    "fetch_and_cache('https://datasets.imdbws.com/name.basics.tsv.gz', 'names.tsv.gz')\n",
    "!gunzip -kf data/titles.tsv.gz\n",
    "!gunzip -kf data/names.tsv.gz\n",
    "!ls -lh data"
   ]
  },
  {
   "cell_type": "code",
   "execution_count": null,
   "metadata": {},
   "outputs": [],
   "source": [
    "!head -n5 data/titles.tsv"
   ]
  },
  {
   "cell_type": "code",
   "execution_count": null,
   "metadata": {},
   "outputs": [],
   "source": [
    "!head -n5 data/names.tsv"
   ]
  },
  {
   "cell_type": "code",
   "execution_count": null,
   "metadata": {},
   "outputs": [],
   "source": [
    "!wc data/*.tsv"
   ]
  },
  {
   "cell_type": "code",
   "execution_count": null,
   "metadata": {},
   "outputs": [],
   "source": [
    "# How to crash your kernel:\n",
    "# pd.read_csv('data/names.tsv', sep='\\t')"
   ]
  },
  {
   "cell_type": "code",
   "execution_count": null,
   "metadata": {},
   "outputs": [],
   "source": [
    "# Instead, use sqlite3 (must be run from the terminal)\n",
    "\"\"\"\n",
    "$ sqlite3 imdb.db\n",
    "sqlite> .mode tabs\n",
    "sqlite> .import data/titles.tsv titles\n",
    "sqlite> .import data/names.tsv names\n",
    "\"\"\";"
   ]
  },
  {
   "cell_type": "code",
   "execution_count": null,
   "metadata": {},
   "outputs": [],
   "source": [
    "conn = sqlite3.connect('imdb.db')\n",
    "print_sql('SELECT * FROM titles LIMIT 10;')"
   ]
  },
  {
   "cell_type": "code",
   "execution_count": null,
   "metadata": {},
   "outputs": [],
   "source": [
    "for exp in conn.execute('SELECT sql FROM sqlite_master;'):\n",
    "    print(exp[0])"
   ]
  },
  {
   "cell_type": "code",
   "execution_count": null,
   "metadata": {},
   "outputs": [],
   "source": [
    "# Python string substitution (new in Python 3.6)\n",
    "who, where = 'John', 'here'\n",
    "f\"{who} is {where}\""
   ]
  },
  {
   "cell_type": "code",
   "execution_count": null,
   "metadata": {},
   "outputs": [],
   "source": [
    "key = 'tconst'\n",
    "title = 'primaryTitle'\n",
    "time = 'runtimeMinutes'\n",
    "year = 'startYear'\n",
    "adult = 'isAdult'\n",
    "kind = 'titleType'\n",
    "\n",
    "select_romance = f'''\n",
    "    SELECT {key} AS id,\n",
    "           {title} AS title, \n",
    "           CAST({time} AS int) AS time, \n",
    "           CAST({year} AS int) AS year\n",
    "    FROM titles\n",
    "    WHERE genres LIKE '%Romance%' AND\n",
    "          year > 1900 AND \n",
    "          {adult} = '0' AND\n",
    "          {kind} = 'movie'\n",
    "    '''\n",
    "conn.executescript(f'''\n",
    "    DROP TABLE IF EXISTS romance;\n",
    "    CREATE TABLE romance AS {select_romance};\n",
    "    ''')\n",
    "print_sql('SELECT * FROM romance LIMIT 10')"
   ]
  },
  {
   "cell_type": "code",
   "execution_count": null,
   "metadata": {},
   "outputs": [],
   "source": [
    "df = pd.read_sql_query('SELECT * FROM romance', conn)\n",
    "df.head()"
   ]
  },
  {
   "cell_type": "code",
   "execution_count": null,
   "metadata": {},
   "outputs": [],
   "source": [
    "df.shape"
   ]
  },
  {
   "cell_type": "code",
   "execution_count": null,
   "metadata": {},
   "outputs": [],
   "source": [
    "df.hist('year');"
   ]
  },
  {
   "cell_type": "code",
   "execution_count": null,
   "metadata": {},
   "outputs": [],
   "source": [
    "sns.scatterplot(df['year'], df['time']);"
   ]
  },
  {
   "cell_type": "code",
   "execution_count": null,
   "metadata": {},
   "outputs": [],
   "source": [
    "sns.kdeplot(df['year'], df['time']);"
   ]
  },
  {
   "cell_type": "code",
   "execution_count": null,
   "metadata": {},
   "outputs": [],
   "source": [
    "df['time'].groupby(df['year']).mean().plot();"
   ]
  },
  {
   "cell_type": "code",
   "execution_count": null,
   "metadata": {},
   "outputs": [],
   "source": [
    "df['decade'] = (df['year'] // 10) * 10\n",
    "sns.boxplot('decade', 'time', data=df)\n",
    "plt.xticks(rotation=45);"
   ]
  },
  {
   "cell_type": "code",
   "execution_count": null,
   "metadata": {},
   "outputs": [],
   "source": [
    "print_sql('SELECT * FROM romance ORDER BY RANDOM() LIMIT 3')"
   ]
  },
  {
   "cell_type": "code",
   "execution_count": null,
   "metadata": {},
   "outputs": [],
   "source": [
    "three_years = '''\n",
    "    SELECT year FROM romance \n",
    "         GROUP BY year \n",
    "         ORDER BY RANDOM() LIMIT 3\n",
    "    '''\n",
    "cluster_sample = f'''\n",
    "    SELECT * FROM romance \n",
    "    WHERE year IN ({three_years})\n",
    "    '''\n",
    "print_sql(f'''\n",
    "    SELECT year, COUNT(*) \n",
    "    FROM ({cluster_sample}) \n",
    "    GROUP BY year\n",
    "    ''')"
   ]
  },
  {
   "cell_type": "code",
   "execution_count": null,
   "metadata": {},
   "outputs": [],
   "source": [
    "print_sql('SELECT * FROM names LIMIT 10;')"
   ]
  },
  {
   "cell_type": "code",
   "execution_count": null,
   "metadata": {},
   "outputs": [],
   "source": [
    "name = 'primaryName'\n",
    "known = 'knownForTitles'\n",
    "profession = 'primaryProfession'\n",
    "born = 'birthYear'\n",
    "\n",
    "select_actors = f'''\n",
    "    SELECT {name} AS name, \n",
    "           CAST({born} AS int) AS born,\n",
    "           SUBSTR({known}, 0, INSTR({known}, ',')) AS movie_id\n",
    "    FROM names\n",
    "    WHERE {profession} LIKE '%act%' AND\n",
    "          born > 1800\n",
    "    '''\n",
    "print_sql(f'{select_actors} LIMIT 10')"
   ]
  },
  {
   "cell_type": "code",
   "execution_count": null,
   "metadata": {
    "scrolled": false
   },
   "outputs": [],
   "source": [
    "select = f'''\n",
    "    SELECT name, born, title, year FROM\n",
    "    ({select_actors}) JOIN\n",
    "    romance\n",
    "    ON movie_id = id;\n",
    "    '''\n",
    "conn.executescript(f'''\n",
    "    DROP TABLE IF EXISTS romantics;\n",
    "    CREATE TABLE romantics AS {select};\n",
    "    ''')\n",
    "print_sql('SELECT * FROM romantics LIMIT 10')"
   ]
  },
  {
   "cell_type": "code",
   "execution_count": null,
   "metadata": {},
   "outputs": [],
   "source": [
    "df = pd.read_sql_query('SELECT * FROM romantics', conn)\n",
    "df.shape"
   ]
  },
  {
   "cell_type": "code",
   "execution_count": null,
   "metadata": {},
   "outputs": [],
   "source": [
    "df['age'] = df['year'] - df['born']\n",
    "df.hist('age');"
   ]
  },
  {
   "cell_type": "code",
   "execution_count": null,
   "metadata": {},
   "outputs": [],
   "source": [
    "df['decade'] = (df['year'] // 10) * 10\n",
    "sns.boxplot('decade', 'age', data=df)\n",
    "plt.xticks(rotation=45);"
   ]
  },
  {
   "cell_type": "code",
   "execution_count": null,
   "metadata": {},
   "outputs": [],
   "source": []
  }
 ],
 "metadata": {
  "kernelspec": {
   "display_name": "Python 3",
   "language": "python",
   "name": "python3"
  },
  "language_info": {
   "codemirror_mode": {
    "name": "ipython",
    "version": 3
   },
   "file_extension": ".py",
   "mimetype": "text/x-python",
   "name": "python",
   "nbconvert_exporter": "python",
   "pygments_lexer": "ipython3",
   "version": "3.6.7"
  }
 },
 "nbformat": 4,
 "nbformat_minor": 2
}
