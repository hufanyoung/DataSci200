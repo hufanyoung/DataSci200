{
 "cells": [
  {
   "cell_type": "code",
   "execution_count": 1,
   "metadata": {},
   "outputs": [],
   "source": [
    "import numpy as np\n",
    "import pandas as pd\n",
    "%matplotlib inline"
   ]
  },
  {
   "cell_type": "markdown",
   "metadata": {},
   "source": [
    "## JSON"
   ]
  },
  {
   "cell_type": "code",
   "execution_count": 2,
   "metadata": {},
   "outputs": [
    {
     "name": "stdout",
     "output_type": "stream",
     "text": [
      "{\r\n",
      "    \"Candidate\": {\r\n",
      "        \"0\": \"Reagan\",\r\n",
      "        \"1\": \"Carter\",\r\n",
      "        \"2\": \"Anderson\",\r\n",
      "        \"3\": \"Reagan\",\r\n",
      "        \"4\": \"Mondale\",\r\n",
      "        \"5\": \"Bush\",\r\n",
      "        \"6\": \"Dukakis\",\r\n",
      "        \"7\": \"Clinton\",\r\n",
      "        \"8\": \"Bush\",\r\n",
      "        \"9\": \"Perot\",\r\n",
      "        \"10\": \"Clinton\",\r\n",
      "        \"11\": \"Dole\",\r\n",
      "        \"12\": \"Perot\",\r\n",
      "        \"13\": \"Gore\",\r\n",
      "        \"14\": \"Bush\",\r\n",
      "        \"15\": \"Kerry\",\r\n",
      "        \"16\": \"Bush\",\r\n",
      "        \"17\": \"Obama\",\r\n",
      "        \"18\": \"McCain\",\r\n",
      "        \"19\": \"Obama\",\r\n",
      "        \"20\": \"Romney\",\r\n",
      "        \"21\": \"Clinton\",\r\n",
      "        \"22\": \"Trump\"\r\n",
      "    },\r\n",
      "    \"Party\": {\r\n",
      "        \"0\": \"Republican\",\r\n",
      "        \"1\": \"Democratic\",\r\n",
      "        \"2\": \"Independent\",\r\n",
      "        \"3\": \"Republican\",\r\n",
      "        \"4\": \"Democratic\",\r\n",
      "        \"5\": \"Republican\",\r\n",
      "        \"6\": \"Democratic\",\r\n",
      "        \"7\": \"Democratic\",\r\n",
      "        \"8\": \"Republican\",\r\n",
      "        \"9\": \"Independent\",\r\n",
      "        \"10\": \"Democratic\",\r\n",
      "        \"11\": \"Republican\",\r\n",
      "        \"12\": \"Independent\",\r\n",
      "        \"13\": \"Democratic\",\r\n",
      "        \"14\": \"Republican\",\r\n",
      "        \"15\": \"Democratic\",\r\n",
      "        \"16\": \"Republican\",\r\n",
      "        \"17\": \"Democratic\",\r\n",
      "        \"18\": \"Republican\",\r\n",
      "        \"19\": \"Democratic\",\r\n",
      "        \"20\": \"Republican\",\r\n",
      "        \"21\": \"Democratic\",\r\n",
      "        \"22\": \"Republican\"\r\n",
      "    },\r\n",
      "    \"%\": {\r\n",
      "        \"0\": 50.7,\r\n",
      "        \"1\": 41.0,\r\n",
      "        \"2\": 6.6,\r\n",
      "        \"3\": 58.8,\r\n",
      "        \"4\": 37.6,\r\n",
      "        \"5\": 53.4,\r\n",
      "        \"6\": 45.6,\r\n",
      "        \"7\": 43.0,\r\n",
      "        \"8\": 37.4,\r\n",
      "        \"9\": 18.9,\r\n",
      "        \"10\": 49.2,\r\n",
      "        \"11\": 40.7,\r\n",
      "        \"12\": 8.4,\r\n",
      "        \"13\": 48.4,\r\n",
      "        \"14\": 47.9,\r\n",
      "        \"15\": 48.3,\r\n",
      "        \"16\": 50.7,\r\n",
      "        \"17\": 52.9,\r\n",
      "        \"18\": 45.7,\r\n",
      "        \"19\": 51.1,\r\n",
      "        \"20\": 47.2,\r\n",
      "        \"21\": 48.2,\r\n",
      "        \"22\": 46.1\r\n",
      "    },\r\n",
      "    \"Year\": {\r\n",
      "        \"0\": 1980,\r\n",
      "        \"1\": 1980,\r\n",
      "        \"2\": 1980,\r\n",
      "        \"3\": 1984,\r\n",
      "        \"4\": 1984,\r\n",
      "        \"5\": 1988,\r\n",
      "        \"6\": 1988,\r\n",
      "        \"7\": 1992,\r\n",
      "        \"8\": 1992,\r\n",
      "        \"9\": 1992,\r\n",
      "        \"10\": 1996,\r\n",
      "        \"11\": 1996,\r\n",
      "        \"12\": 1996,\r\n",
      "        \"13\": 2000,\r\n",
      "        \"14\": 2000,\r\n",
      "        \"15\": 2004,\r\n",
      "        \"16\": 2004,\r\n",
      "        \"17\": 2008,\r\n",
      "        \"18\": 2008,\r\n",
      "        \"19\": 2012,\r\n",
      "        \"20\": 2012,\r\n",
      "        \"21\": 2016,\r\n",
      "        \"22\": 2016\r\n",
      "    },\r\n",
      "    \"Result\": {\r\n",
      "        \"0\": \"win\",\r\n",
      "        \"1\": \"loss\",\r\n",
      "        \"2\": \"loss\",\r\n",
      "        \"3\": \"win\",\r\n",
      "        \"4\": \"loss\",\r\n",
      "        \"5\": \"win\",\r\n",
      "        \"6\": \"loss\",\r\n",
      "        \"7\": \"win\",\r\n",
      "        \"8\": \"loss\",\r\n",
      "        \"9\": \"loss\",\r\n",
      "        \"10\": \"win\",\r\n",
      "        \"11\": \"loss\",\r\n",
      "        \"12\": \"loss\",\r\n",
      "        \"13\": \"loss\",\r\n",
      "        \"14\": \"win\",\r\n",
      "        \"15\": \"loss\",\r\n",
      "        \"16\": \"win\",\r\n",
      "        \"17\": \"win\",\r\n",
      "        \"18\": \"loss\",\r\n",
      "        \"19\": \"win\",\r\n",
      "        \"20\": \"loss\",\r\n",
      "        \"21\": \"loss\",\r\n",
      "        \"22\": \"win\"\r\n",
      "    }\r\n",
      "}\r\n"
     ]
    }
   ],
   "source": [
    "elections = pd.read_csv(\"elections.csv\")\n",
    "elections.to_json(\"elections.json\") # orient='table' or 'records' or 'values'\n",
    "!python -m json.tool elections.json "
   ]
  },
  {
   "cell_type": "markdown",
   "metadata": {},
   "source": [
    "## Hierarchical Data"
   ]
  },
  {
   "cell_type": "markdown",
   "metadata": {},
   "source": [
    "A lot of structured data isn't in CSV format, but in HTML, XML, JSON, YAML, etc. JSON might have a structure that Pandas can't read directly.\n",
    "\n",
    "Here's an example: a group of people collected information about US congressional legislators in YAML format.\n",
    "\n",
    "https://github.com/unitedstates/congress-legislators\n",
    "\n",
    "Here's one of the data files:\n",
    "\n",
    "https://github.com/unitedstates/congress-legislators/blob/master/legislators-current.yaml"
   ]
  },
  {
   "cell_type": "code",
   "execution_count": 3,
   "metadata": {},
   "outputs": [],
   "source": [
    "import requests\n",
    "from pathlib import Path\n",
    "\n",
    "legislators_path = 'legislators-current.yaml'\n",
    "base_url = 'https://github.com/unitedstates/congress-legislators/raw/master/'\n",
    "\n",
    "def download(url, path):\n",
    "    \"\"\"Download the contents of a URL to a local file.\"\"\"\n",
    "    path = Path(path) # If path was a string, now it's a Path\n",
    "    if not path.exists():\n",
    "        print('Downloading...', end=' ')\n",
    "        resp = requests.get(url)\n",
    "        with path.open('wb') as f:\n",
    "            f.write(resp.content)\n",
    "        print('Done!')\n",
    "        \n",
    "download(base_url + legislators_path, legislators_path)"
   ]
  },
  {
   "cell_type": "code",
   "execution_count": 4,
   "metadata": {},
   "outputs": [
    {
     "data": {
      "text/plain": [
       "539"
      ]
     },
     "execution_count": 4,
     "metadata": {},
     "output_type": "execute_result"
    }
   ],
   "source": [
    "import yaml\n",
    "\n",
    "legislators = yaml.load(open(legislators_path))\n",
    "len(legislators)"
   ]
  },
  {
   "cell_type": "code",
   "execution_count": 5,
   "metadata": {},
   "outputs": [
    {
     "data": {
      "text/plain": [
       "{'id': {'bioguide': 'B000944',\n",
       "  'thomas': '00136',\n",
       "  'lis': 'S307',\n",
       "  'govtrack': 400050,\n",
       "  'opensecrets': 'N00003535',\n",
       "  'votesmart': 27018,\n",
       "  'fec': ['H2OH13033', 'S6OH00163'],\n",
       "  'cspan': 5051,\n",
       "  'wikipedia': 'Sherrod Brown',\n",
       "  'house_history': 9996,\n",
       "  'ballotpedia': 'Sherrod Brown',\n",
       "  'maplight': 168,\n",
       "  'icpsr': 29389,\n",
       "  'wikidata': 'Q381880',\n",
       "  'google_entity_id': 'kg:/m/034s80'},\n",
       " 'name': {'first': 'Sherrod',\n",
       "  'last': 'Brown',\n",
       "  'official_full': 'Sherrod Brown'},\n",
       " 'bio': {'birthday': '1952-11-09', 'gender': 'M', 'religion': 'Lutheran'},\n",
       " 'terms': [{'type': 'rep',\n",
       "   'start': '1993-01-05',\n",
       "   'end': '1995-01-03',\n",
       "   'state': 'OH',\n",
       "   'district': 13,\n",
       "   'party': 'Democrat'},\n",
       "  {'type': 'rep',\n",
       "   'start': '1995-01-04',\n",
       "   'end': '1997-01-03',\n",
       "   'state': 'OH',\n",
       "   'district': 13,\n",
       "   'party': 'Democrat'},\n",
       "  {'type': 'rep',\n",
       "   'start': '1997-01-07',\n",
       "   'end': '1999-01-03',\n",
       "   'state': 'OH',\n",
       "   'district': 13,\n",
       "   'party': 'Democrat'},\n",
       "  {'type': 'rep',\n",
       "   'start': '1999-01-06',\n",
       "   'end': '2001-01-03',\n",
       "   'state': 'OH',\n",
       "   'district': 13,\n",
       "   'party': 'Democrat'},\n",
       "  {'type': 'rep',\n",
       "   'start': '2001-01-03',\n",
       "   'end': '2003-01-03',\n",
       "   'state': 'OH',\n",
       "   'district': 13,\n",
       "   'party': 'Democrat'},\n",
       "  {'type': 'rep',\n",
       "   'start': '2003-01-07',\n",
       "   'end': '2005-01-03',\n",
       "   'state': 'OH',\n",
       "   'district': 13,\n",
       "   'party': 'Democrat',\n",
       "   'url': 'http://www.house.gov/sherrodbrown'},\n",
       "  {'type': 'rep',\n",
       "   'start': '2005-01-04',\n",
       "   'end': '2007-01-03',\n",
       "   'state': 'OH',\n",
       "   'district': 13,\n",
       "   'party': 'Democrat',\n",
       "   'url': 'http://www.house.gov/sherrodbrown'},\n",
       "  {'type': 'sen',\n",
       "   'start': '2007-01-04',\n",
       "   'end': '2013-01-03',\n",
       "   'state': 'OH',\n",
       "   'class': 1,\n",
       "   'party': 'Democrat',\n",
       "   'url': 'http://brown.senate.gov/',\n",
       "   'address': '713 HART SENATE OFFICE BUILDING WASHINGTON DC 20510',\n",
       "   'phone': '202-224-2315',\n",
       "   'fax': '202-228-6321',\n",
       "   'contact_form': 'http://www.brown.senate.gov/contact/',\n",
       "   'office': '713 Hart Senate Office Building'},\n",
       "  {'type': 'sen',\n",
       "   'start': '2013-01-03',\n",
       "   'end': '2019-01-03',\n",
       "   'state': 'OH',\n",
       "   'party': 'Democrat',\n",
       "   'class': 1,\n",
       "   'url': 'https://www.brown.senate.gov',\n",
       "   'address': '713 Hart Senate Office Building Washington DC 20510',\n",
       "   'phone': '202-224-2315',\n",
       "   'fax': '202-228-6321',\n",
       "   'contact_form': 'http://www.brown.senate.gov/contact/',\n",
       "   'office': '713 Hart Senate Office Building',\n",
       "   'state_rank': 'senior',\n",
       "   'rss_url': 'http://www.brown.senate.gov/rss/feeds/?type=all&amp;'},\n",
       "  {'type': 'sen',\n",
       "   'start': '2019-01-03',\n",
       "   'end': '2025-01-03',\n",
       "   'state': 'OH',\n",
       "   'class': 1,\n",
       "   'party': 'Democrat',\n",
       "   'state_rank': 'senior',\n",
       "   'url': 'https://www.brown.senate.gov',\n",
       "   'rss_url': 'http://www.brown.senate.gov/rss/feeds/?type=all&amp;',\n",
       "   'contact_form': 'http://www.brown.senate.gov/contact/',\n",
       "   'address': '503 Hart Senate Office Building Washington DC 20510',\n",
       "   'office': '503 Hart Senate Office Building',\n",
       "   'phone': '202-224-2315'}]}"
      ]
     },
     "execution_count": 5,
     "metadata": {},
     "output_type": "execute_result"
    }
   ],
   "source": [
    "legislators[0]"
   ]
  },
  {
   "cell_type": "code",
   "execution_count": 6,
   "metadata": {},
   "outputs": [
    {
     "data": {
      "text/plain": [
       "{'bioguide': 'B000944',\n",
       " 'thomas': '00136',\n",
       " 'lis': 'S307',\n",
       " 'govtrack': 400050,\n",
       " 'opensecrets': 'N00003535',\n",
       " 'votesmart': 27018,\n",
       " 'fec': ['H2OH13033', 'S6OH00163'],\n",
       " 'cspan': 5051,\n",
       " 'wikipedia': 'Sherrod Brown',\n",
       " 'house_history': 9996,\n",
       " 'ballotpedia': 'Sherrod Brown',\n",
       " 'maplight': 168,\n",
       " 'icpsr': 29389,\n",
       " 'wikidata': 'Q381880',\n",
       " 'google_entity_id': 'kg:/m/034s80'}"
      ]
     },
     "execution_count": 6,
     "metadata": {},
     "output_type": "execute_result"
    }
   ],
   "source": [
    "x = legislators[0]\n",
    "x['id']"
   ]
  },
  {
   "cell_type": "code",
   "execution_count": 7,
   "metadata": {},
   "outputs": [
    {
     "data": {
      "text/plain": [
       "{'first': 'Sherrod', 'last': 'Brown', 'official_full': 'Sherrod Brown'}"
      ]
     },
     "execution_count": 7,
     "metadata": {},
     "output_type": "execute_result"
    }
   ],
   "source": [
    "x['name']"
   ]
  },
  {
   "cell_type": "code",
   "execution_count": 8,
   "metadata": {},
   "outputs": [
    {
     "data": {
      "text/plain": [
       "{'birthday': '1952-11-09', 'gender': 'M', 'religion': 'Lutheran'}"
      ]
     },
     "execution_count": 8,
     "metadata": {},
     "output_type": "execute_result"
    }
   ],
   "source": [
    "x['bio']"
   ]
  },
  {
   "cell_type": "code",
   "execution_count": 9,
   "metadata": {},
   "outputs": [
    {
     "data": {
      "text/plain": [
       "datetime.datetime(1952, 11, 9, 0, 0)"
      ]
     },
     "execution_count": 9,
     "metadata": {},
     "output_type": "execute_result"
    }
   ],
   "source": [
    "from datetime import datetime\n",
    "\n",
    "def to_date(s):\n",
    "    return datetime.strptime(s, '%Y-%m-%d')\n",
    "\n",
    "to_date(x['bio']['birthday'])"
   ]
  },
  {
   "cell_type": "code",
   "execution_count": 10,
   "metadata": {},
   "outputs": [
    {
     "data": {
      "text/html": [
       "<div>\n",
       "<style scoped>\n",
       "    .dataframe tbody tr th:only-of-type {\n",
       "        vertical-align: middle;\n",
       "    }\n",
       "\n",
       "    .dataframe tbody tr th {\n",
       "        vertical-align: top;\n",
       "    }\n",
       "\n",
       "    .dataframe thead th {\n",
       "        text-align: right;\n",
       "    }\n",
       "</style>\n",
       "<table border=\"1\" class=\"dataframe\">\n",
       "  <thead>\n",
       "    <tr style=\"text-align: right;\">\n",
       "      <th></th>\n",
       "      <th>id</th>\n",
       "      <th>first</th>\n",
       "      <th>last</th>\n",
       "      <th>birthday</th>\n",
       "    </tr>\n",
       "  </thead>\n",
       "  <tbody>\n",
       "    <tr>\n",
       "      <th>0</th>\n",
       "      <td>B000944</td>\n",
       "      <td>Sherrod</td>\n",
       "      <td>Brown</td>\n",
       "      <td>1952-11-09</td>\n",
       "    </tr>\n",
       "    <tr>\n",
       "      <th>1</th>\n",
       "      <td>C000127</td>\n",
       "      <td>Maria</td>\n",
       "      <td>Cantwell</td>\n",
       "      <td>1958-10-13</td>\n",
       "    </tr>\n",
       "    <tr>\n",
       "      <th>2</th>\n",
       "      <td>C000141</td>\n",
       "      <td>Benjamin</td>\n",
       "      <td>Cardin</td>\n",
       "      <td>1943-10-05</td>\n",
       "    </tr>\n",
       "    <tr>\n",
       "      <th>3</th>\n",
       "      <td>C000174</td>\n",
       "      <td>Thomas</td>\n",
       "      <td>Carper</td>\n",
       "      <td>1947-01-23</td>\n",
       "    </tr>\n",
       "    <tr>\n",
       "      <th>4</th>\n",
       "      <td>C001070</td>\n",
       "      <td>Robert</td>\n",
       "      <td>Casey</td>\n",
       "      <td>1960-04-13</td>\n",
       "    </tr>\n",
       "  </tbody>\n",
       "</table>\n",
       "</div>"
      ],
      "text/plain": [
       "        id     first      last   birthday\n",
       "0  B000944   Sherrod     Brown 1952-11-09\n",
       "1  C000127     Maria  Cantwell 1958-10-13\n",
       "2  C000141  Benjamin    Cardin 1943-10-05\n",
       "3  C000174    Thomas    Carper 1947-01-23\n",
       "4  C001070    Robert     Casey 1960-04-13"
      ]
     },
     "execution_count": 10,
     "metadata": {},
     "output_type": "execute_result"
    }
   ],
   "source": [
    "leg_df = pd.DataFrame(\n",
    "    columns=['id', 'first', 'last', 'birthday'],\n",
    "    data=[[x['id']['bioguide'], \n",
    "           x['name']['first'],\n",
    "           x['name']['last'],\n",
    "           to_date(x['bio']['birthday'])] for x in legislators])\n",
    "leg_df.head()"
   ]
  },
  {
   "cell_type": "code",
   "execution_count": 11,
   "metadata": {},
   "outputs": [
    {
     "data": {
      "text/plain": [
       "Timedelta('24189 days 19:58:01.266604')"
      ]
     },
     "execution_count": 11,
     "metadata": {},
     "output_type": "execute_result"
    }
   ],
   "source": [
    "datetime.now() - leg_df.loc[0, 'birthday']"
   ]
  },
  {
   "cell_type": "code",
   "execution_count": 12,
   "metadata": {},
   "outputs": [
    {
     "data": {
      "text/html": [
       "<div>\n",
       "<style scoped>\n",
       "    .dataframe tbody tr th:only-of-type {\n",
       "        vertical-align: middle;\n",
       "    }\n",
       "\n",
       "    .dataframe tbody tr th {\n",
       "        vertical-align: top;\n",
       "    }\n",
       "\n",
       "    .dataframe thead th {\n",
       "        text-align: right;\n",
       "    }\n",
       "</style>\n",
       "<table border=\"1\" class=\"dataframe\">\n",
       "  <thead>\n",
       "    <tr style=\"text-align: right;\">\n",
       "      <th></th>\n",
       "      <th>id</th>\n",
       "      <th>first</th>\n",
       "      <th>last</th>\n",
       "      <th>birthday</th>\n",
       "      <th>age</th>\n",
       "    </tr>\n",
       "  </thead>\n",
       "  <tbody>\n",
       "    <tr>\n",
       "      <th>0</th>\n",
       "      <td>B000944</td>\n",
       "      <td>Sherrod</td>\n",
       "      <td>Brown</td>\n",
       "      <td>1952-11-09</td>\n",
       "      <td>66.271233</td>\n",
       "    </tr>\n",
       "    <tr>\n",
       "      <th>1</th>\n",
       "      <td>C000127</td>\n",
       "      <td>Maria</td>\n",
       "      <td>Cantwell</td>\n",
       "      <td>1958-10-13</td>\n",
       "      <td>60.342466</td>\n",
       "    </tr>\n",
       "    <tr>\n",
       "      <th>2</th>\n",
       "      <td>C000141</td>\n",
       "      <td>Benjamin</td>\n",
       "      <td>Cardin</td>\n",
       "      <td>1943-10-05</td>\n",
       "      <td>75.375342</td>\n",
       "    </tr>\n",
       "    <tr>\n",
       "      <th>3</th>\n",
       "      <td>C000174</td>\n",
       "      <td>Thomas</td>\n",
       "      <td>Carper</td>\n",
       "      <td>1947-01-23</td>\n",
       "      <td>72.071233</td>\n",
       "    </tr>\n",
       "    <tr>\n",
       "      <th>4</th>\n",
       "      <td>C001070</td>\n",
       "      <td>Robert</td>\n",
       "      <td>Casey</td>\n",
       "      <td>1960-04-13</td>\n",
       "      <td>58.841096</td>\n",
       "    </tr>\n",
       "  </tbody>\n",
       "</table>\n",
       "</div>"
      ],
      "text/plain": [
       "        id     first      last   birthday        age\n",
       "0  B000944   Sherrod     Brown 1952-11-09  66.271233\n",
       "1  C000127     Maria  Cantwell 1958-10-13  60.342466\n",
       "2  C000141  Benjamin    Cardin 1943-10-05  75.375342\n",
       "3  C000174    Thomas    Carper 1947-01-23  72.071233\n",
       "4  C001070    Robert     Casey 1960-04-13  58.841096"
      ]
     },
     "execution_count": 12,
     "metadata": {},
     "output_type": "execute_result"
    }
   ],
   "source": [
    "leg_df['age'] = (datetime.now() - leg_df['birthday']).apply(lambda age: age.days/365)\n",
    "leg_df.head()"
   ]
  },
  {
   "cell_type": "code",
   "execution_count": 13,
   "metadata": {},
   "outputs": [
    {
     "data": {
      "image/png": "[encoded data removed]",
      "text/plain": [
       "<Figure size 432x288 with 1 Axes>"
      ]
     },
     "metadata": {
      "needs_background": "light"
     },
     "output_type": "display_data"
    }
   ],
   "source": [
    "leg_df['age'].plot(kind='hist');"
   ]
  },
  {
   "cell_type": "markdown",
   "metadata": {},
   "source": [
    "## Missing Values"
   ]
  },
  {
   "cell_type": "code",
   "execution_count": 14,
   "metadata": {},
   "outputs": [
    {
     "data": {
      "text/html": [
       "<div>\n",
       "<style scoped>\n",
       "    .dataframe tbody tr th:only-of-type {\n",
       "        vertical-align: middle;\n",
       "    }\n",
       "\n",
       "    .dataframe tbody tr th {\n",
       "        vertical-align: top;\n",
       "    }\n",
       "\n",
       "    .dataframe thead th {\n",
       "        text-align: right;\n",
       "    }\n",
       "</style>\n",
       "<table border=\"1\" class=\"dataframe\">\n",
       "  <thead>\n",
       "    <tr style=\"text-align: right;\">\n",
       "      <th></th>\n",
       "      <th>id</th>\n",
       "      <th>first</th>\n",
       "      <th>last</th>\n",
       "      <th>birthday</th>\n",
       "      <th>age</th>\n",
       "      <th>religion</th>\n",
       "    </tr>\n",
       "  </thead>\n",
       "  <tbody>\n",
       "    <tr>\n",
       "      <th>0</th>\n",
       "      <td>B000944</td>\n",
       "      <td>Sherrod</td>\n",
       "      <td>Brown</td>\n",
       "      <td>1952-11-09</td>\n",
       "      <td>66.271233</td>\n",
       "      <td>Lutheran</td>\n",
       "    </tr>\n",
       "    <tr>\n",
       "      <th>1</th>\n",
       "      <td>C000127</td>\n",
       "      <td>Maria</td>\n",
       "      <td>Cantwell</td>\n",
       "      <td>1958-10-13</td>\n",
       "      <td>60.342466</td>\n",
       "      <td>Roman Catholic</td>\n",
       "    </tr>\n",
       "    <tr>\n",
       "      <th>2</th>\n",
       "      <td>C000141</td>\n",
       "      <td>Benjamin</td>\n",
       "      <td>Cardin</td>\n",
       "      <td>1943-10-05</td>\n",
       "      <td>75.375342</td>\n",
       "      <td>Jewish</td>\n",
       "    </tr>\n",
       "    <tr>\n",
       "      <th>3</th>\n",
       "      <td>C000174</td>\n",
       "      <td>Thomas</td>\n",
       "      <td>Carper</td>\n",
       "      <td>1947-01-23</td>\n",
       "      <td>72.071233</td>\n",
       "      <td>Presbyterian</td>\n",
       "    </tr>\n",
       "    <tr>\n",
       "      <th>4</th>\n",
       "      <td>C001070</td>\n",
       "      <td>Robert</td>\n",
       "      <td>Casey</td>\n",
       "      <td>1960-04-13</td>\n",
       "      <td>58.841096</td>\n",
       "      <td>None</td>\n",
       "    </tr>\n",
       "  </tbody>\n",
       "</table>\n",
       "</div>"
      ],
      "text/plain": [
       "        id     first      last   birthday        age        religion\n",
       "0  B000944   Sherrod     Brown 1952-11-09  66.271233        Lutheran\n",
       "1  C000127     Maria  Cantwell 1958-10-13  60.342466  Roman Catholic\n",
       "2  C000141  Benjamin    Cardin 1943-10-05  75.375342          Jewish\n",
       "3  C000174    Thomas    Carper 1947-01-23  72.071233    Presbyterian\n",
       "4  C001070    Robert     Casey 1960-04-13  58.841096            None"
      ]
     },
     "execution_count": 14,
     "metadata": {},
     "output_type": "execute_result"
    }
   ],
   "source": [
    "leg_df['religion'] = [x['bio'].get('religion') for x in legislators]\n",
    "leg_df.head()"
   ]
  },
  {
   "cell_type": "code",
   "execution_count": 15,
   "metadata": {},
   "outputs": [
    {
     "data": {
      "image/png": "[encoded data removed]",
      "text/plain": [
       "<Figure size 432x288 with 1 Axes>"
      ]
     },
     "metadata": {
      "needs_background": "light"
     },
     "output_type": "display_data"
    }
   ],
   "source": [
    "leg_df[leg_df['religion'].notnull()]['age'].plot(kind='hist');"
   ]
  },
  {
   "cell_type": "markdown",
   "metadata": {},
   "source": [
    "## Joins"
   ]
  },
  {
   "cell_type": "code",
   "execution_count": 16,
   "metadata": {},
   "outputs": [
    {
     "name": "stdout",
     "output_type": "stream",
     "text": [
      "47 217\n"
     ]
    }
   ],
   "source": [
    "comm_path = 'committees-current.yaml'\n",
    "comm_membership_path = 'committee-membership-current.yaml'\n",
    "for p in [comm_path, comm_membership_path]:\n",
    "    download(base_url + p, p)\n",
    "comms = yaml.load(open(comm_path))\n",
    "comm_membership = yaml.load(open(comm_membership_path))\n",
    "print(len(comms), len(comm_membership))"
   ]
  },
  {
   "cell_type": "code",
   "execution_count": 17,
   "metadata": {},
   "outputs": [
    {
     "data": {
      "text/plain": [
       "{'type': 'house',\n",
       " 'name': 'House Committee on Agriculture',\n",
       " 'url': 'https://agriculture.house.gov/',\n",
       " 'minority_url': 'https://democrats-agriculture.house.gov/',\n",
       " 'thomas_id': 'HSAG',\n",
       " 'house_committee_id': 'AG',\n",
       " 'subcommittees': [{'name': 'Conservation and Forestry',\n",
       "   'thomas_id': '15',\n",
       "   'address': '1301 LHOB; Washington, DC 20515',\n",
       "   'phone': '(202) 225-2171'},\n",
       "  {'name': 'Commodity Exchanges, Energy, and Credit',\n",
       "   'thomas_id': '22',\n",
       "   'address': '1301 LHOB; Washington, DC 20515',\n",
       "   'phone': '(202) 225-2171'},\n",
       "  {'name': 'General Farm Commodities and Risk Management',\n",
       "   'thomas_id': '16',\n",
       "   'address': '1301 LHOB; Washington, DC 20515',\n",
       "   'phone': '(202) 225-2171'},\n",
       "  {'name': 'Livestock and Foreign Agriculture',\n",
       "   'thomas_id': '29',\n",
       "   'address': '1301 LHOB; Washington, DC 20515',\n",
       "   'phone': '(202) 225-2171'},\n",
       "  {'name': 'Biotechnology, Horticulture, and Research',\n",
       "   'thomas_id': '14',\n",
       "   'address': '1301 LHOB; Washington, DC 20515',\n",
       "   'phone': '(202) 225-2171'},\n",
       "  {'name': 'Nutrition',\n",
       "   'thomas_id': '03',\n",
       "   'address': '1301 LHOB; Washington, DC 20515',\n",
       "   'phone': '(202) 225-2171'}],\n",
       " 'address': '1301 LHOB; Washington, DC 20515-6001',\n",
       " 'phone': '(202) 225-2171',\n",
       " 'rss_url': 'https://agriculture.house.gov/news/rss.aspx',\n",
       " 'minority_rss_url': 'https://democrats-agriculture.house.gov/Rss.aspx?GroupID=1',\n",
       " 'jurisdiction': 'The House Committee on Agriculture has legislative jurisdiction over agriculture, food, rural development, and forestry.',\n",
       " 'jurisdiction_source': 'https://agriculture.house.gov/issuesinfocus/'}"
      ]
     },
     "execution_count": 17,
     "metadata": {},
     "output_type": "execute_result"
    }
   ],
   "source": [
    "comms[0]"
   ]
  },
  {
   "cell_type": "code",
   "execution_count": 18,
   "metadata": {},
   "outputs": [
    {
     "data": {
      "text/html": [
       "<div>\n",
       "<style scoped>\n",
       "    .dataframe tbody tr th:only-of-type {\n",
       "        vertical-align: middle;\n",
       "    }\n",
       "\n",
       "    .dataframe tbody tr th {\n",
       "        vertical-align: top;\n",
       "    }\n",
       "\n",
       "    .dataframe thead th {\n",
       "        text-align: right;\n",
       "    }\n",
       "</style>\n",
       "<table border=\"1\" class=\"dataframe\">\n",
       "  <thead>\n",
       "    <tr style=\"text-align: right;\">\n",
       "      <th></th>\n",
       "      <th>name</th>\n",
       "      <th>thomas_id</th>\n",
       "      <th>type</th>\n",
       "    </tr>\n",
       "  </thead>\n",
       "  <tbody>\n",
       "    <tr>\n",
       "      <th>0</th>\n",
       "      <td>House Committee on Agriculture</td>\n",
       "      <td>HSAG</td>\n",
       "      <td>house</td>\n",
       "    </tr>\n",
       "    <tr>\n",
       "      <th>1</th>\n",
       "      <td>House Committee on Appropriations</td>\n",
       "      <td>HSAP</td>\n",
       "      <td>house</td>\n",
       "    </tr>\n",
       "    <tr>\n",
       "      <th>2</th>\n",
       "      <td>House Committee on Armed Services</td>\n",
       "      <td>HSAS</td>\n",
       "      <td>house</td>\n",
       "    </tr>\n",
       "    <tr>\n",
       "      <th>3</th>\n",
       "      <td>House Committee on Financial Services</td>\n",
       "      <td>HSBA</td>\n",
       "      <td>house</td>\n",
       "    </tr>\n",
       "    <tr>\n",
       "      <th>4</th>\n",
       "      <td>House Committee on the Budget</td>\n",
       "      <td>HSBU</td>\n",
       "      <td>house</td>\n",
       "    </tr>\n",
       "  </tbody>\n",
       "</table>\n",
       "</div>"
      ],
      "text/plain": [
       "                                    name thomas_id   type\n",
       "0         House Committee on Agriculture      HSAG  house\n",
       "1      House Committee on Appropriations      HSAP  house\n",
       "2      House Committee on Armed Services      HSAS  house\n",
       "3  House Committee on Financial Services      HSBA  house\n",
       "4          House Committee on the Budget      HSBU  house"
      ]
     },
     "execution_count": 18,
     "metadata": {},
     "output_type": "execute_result"
    }
   ],
   "source": [
    "comm_df = pd.DataFrame(\n",
    "    columns=['name', 'thomas_id', 'type'],\n",
    "    data=[[c['name'], c['thomas_id'], c['type']] for c in comms]\n",
    ")\n",
    "comm_df.head()"
   ]
  },
  {
   "cell_type": "code",
   "execution_count": 19,
   "metadata": {},
   "outputs": [
    {
     "data": {
      "text/plain": [
       "dict_keys(['HLIG', 'HLIG01', 'HLIG02', 'HLIG03', 'HLIG04', 'HSAG', 'HSAG03', 'HSAG14', 'HSAG15', 'HSAG16', 'HSAG22', 'HSAG29', 'HSAP', 'HSAP01', 'HSAP02', 'HSAP04', 'HSAP06', 'HSAP07', 'HSAP10', 'HSAP15', 'HSAP18', 'HSAP19', 'HSAP20', 'HSAP23', 'HSAP24', 'HSAS', 'HSAS02', 'HSAS03', 'HSAS06', 'HSAS25', 'HSAS26', 'HSAS28', 'HSAS29', 'HSBA', 'HSBA01', 'HSBA04', 'HSBA09', 'HSBA15', 'HSBA16', 'HSBA20', 'HSBU', 'HSED', 'HSED02', 'HSED10', 'HSED13', 'HSED14', 'HSFA', 'HSFA05', 'HSFA07', 'HSFA13', 'HSFA14', 'HSFA16', 'HSFA18', 'HSGO', 'HSGO06', 'HSGO24', 'HSGO25', 'HSGO27', 'HSGO28', 'HSGO29', 'HSHA', 'HSHM', 'HSHM05', 'HSHM07', 'HSHM08', 'HSHM09', 'HSHM11', 'HSHM12', 'HSIF', 'HSIF02', 'HSIF03', 'HSIF14', 'HSIF16', 'HSIF17', 'HSIF18', 'HSII', 'HSII06', 'HSII10', 'HSII13', 'HSII15', 'HSII24', 'HSJU', 'HSJU01', 'HSJU03', 'HSJU05', 'HSJU08', 'HSJU10', 'HSPW', 'HSPW02', 'HSPW05', 'HSPW07', 'HSPW12', 'HSPW13', 'HSPW14', 'HSRU', 'HSRU02', 'HSRU04', 'HSSM', 'HSSM23', 'HSSM24', 'HSSM25', 'HSSM26', 'HSSM27', 'HSSO', 'HSSY', 'HSSY15', 'HSSY16', 'HSSY18', 'HSSY20', 'HSSY21', 'HSVR', 'HSVR03', 'HSVR08', 'HSVR09', 'HSVR10', 'HSVR11', 'HSWM', 'HSWM01', 'HSWM02', 'HSWM03', 'HSWM04', 'HSWM05', 'HSWM06', 'JCSE', 'JSEC', 'JSLC', 'JSPR', 'JSTX', 'SCNC', 'SLET', 'SLIA', 'SLIN', 'SPAG', 'SSAF', 'SSAF13', 'SSAF14', 'SSAF15', 'SSAF16', 'SSAF17', 'SSAP', 'SSAP01', 'SSAP02', 'SSAP08', 'SSAP14', 'SSAP16', 'SSAP17', 'SSAP18', 'SSAP19', 'SSAP20', 'SSAP22', 'SSAP23', 'SSAP24', 'SSAS', 'SSAS13', 'SSAS14', 'SSAS15', 'SSAS16', 'SSAS17', 'SSAS20', 'SSAS21', 'SSBK', 'SSBK04', 'SSBK05', 'SSBK08', 'SSBK09', 'SSBK12', 'SSBU', 'SSCM', 'SSCM01', 'SSCM20', 'SSCM22', 'SSCM24', 'SSCM25', 'SSCM26', 'SSEG', 'SSEG01', 'SSEG03', 'SSEG04', 'SSEG07', 'SSEV', 'SSEV08', 'SSEV09', 'SSEV10', 'SSEV15', 'SSFI', 'SSFI02', 'SSFI10', 'SSFI11', 'SSFI12', 'SSFI13', 'SSFI14', 'SSFR', 'SSFR01', 'SSFR02', 'SSFR06', 'SSFR07', 'SSFR09', 'SSFR14', 'SSFR15', 'SSGA', 'SSGA01', 'SSGA18', 'SSGA19', 'SSHR', 'SSHR09', 'SSHR11', 'SSHR12', 'SSJU', 'SSJU01', 'SSJU04', 'SSJU21', 'SSJU22', 'SSJU23', 'SSJU25', 'SSRA', 'SSSB', 'SSVA'])"
      ]
     },
     "execution_count": 19,
     "metadata": {},
     "output_type": "execute_result"
    }
   ],
   "source": [
    "comm_membership.keys()"
   ]
  },
  {
   "cell_type": "code",
   "execution_count": 20,
   "metadata": {},
   "outputs": [
    {
     "data": {
      "text/plain": [
       "{'name': 'K. Michael Conaway',\n",
       " 'party': 'majority',\n",
       " 'rank': 1,\n",
       " 'title': 'Chair',\n",
       " 'thomas': '01805',\n",
       " 'bioguide': 'C001062'}"
      ]
     },
     "execution_count": 20,
     "metadata": {},
     "output_type": "execute_result"
    }
   ],
   "source": [
    "comm_membership['HSAG'][0]"
   ]
  },
  {
   "cell_type": "code",
   "execution_count": 21,
   "metadata": {},
   "outputs": [
    {
     "data": {
      "text/html": [
       "<div>\n",
       "<style scoped>\n",
       "    .dataframe tbody tr th:only-of-type {\n",
       "        vertical-align: middle;\n",
       "    }\n",
       "\n",
       "    .dataframe tbody tr th {\n",
       "        vertical-align: top;\n",
       "    }\n",
       "\n",
       "    .dataframe thead th {\n",
       "        text-align: right;\n",
       "    }\n",
       "</style>\n",
       "<table border=\"1\" class=\"dataframe\">\n",
       "  <thead>\n",
       "    <tr style=\"text-align: right;\">\n",
       "      <th></th>\n",
       "      <th>comm_id</th>\n",
       "      <th>leg_id</th>\n",
       "    </tr>\n",
       "  </thead>\n",
       "  <tbody>\n",
       "    <tr>\n",
       "      <th>0</th>\n",
       "      <td>HLIG</td>\n",
       "      <td>N000181</td>\n",
       "    </tr>\n",
       "    <tr>\n",
       "      <th>1</th>\n",
       "      <td>HLIG</td>\n",
       "      <td>C001062</td>\n",
       "    </tr>\n",
       "    <tr>\n",
       "      <th>2</th>\n",
       "      <td>HLIG</td>\n",
       "      <td>K000210</td>\n",
       "    </tr>\n",
       "    <tr>\n",
       "      <th>3</th>\n",
       "      <td>HLIG</td>\n",
       "      <td>T000463</td>\n",
       "    </tr>\n",
       "    <tr>\n",
       "      <th>4</th>\n",
       "      <td>HLIG</td>\n",
       "      <td>W000815</td>\n",
       "    </tr>\n",
       "  </tbody>\n",
       "</table>\n",
       "</div>"
      ],
      "text/plain": [
       "  comm_id   leg_id\n",
       "0    HLIG  N000181\n",
       "1    HLIG  C001062\n",
       "2    HLIG  K000210\n",
       "3    HLIG  T000463\n",
       "4    HLIG  W000815"
      ]
     },
     "execution_count": 21,
     "metadata": {},
     "output_type": "execute_result"
    }
   ],
   "source": [
    "member_df = pd.DataFrame(\n",
    "    columns=['comm_id', 'leg_id'],\n",
    "    data=[[c, m['bioguide']] for c, members in comm_membership.items() for m in members]\n",
    ")\n",
    "member_df.head()"
   ]
  },
  {
   "cell_type": "code",
   "execution_count": 22,
   "metadata": {},
   "outputs": [
    {
     "data": {
      "text/html": [
       "<div>\n",
       "<style scoped>\n",
       "    .dataframe tbody tr th:only-of-type {\n",
       "        vertical-align: middle;\n",
       "    }\n",
       "\n",
       "    .dataframe tbody tr th {\n",
       "        vertical-align: top;\n",
       "    }\n",
       "\n",
       "    .dataframe thead th {\n",
       "        text-align: right;\n",
       "    }\n",
       "</style>\n",
       "<table border=\"1\" class=\"dataframe\">\n",
       "  <thead>\n",
       "    <tr style=\"text-align: right;\">\n",
       "      <th></th>\n",
       "      <th>comm_id</th>\n",
       "      <th>leg_id</th>\n",
       "      <th>name</th>\n",
       "      <th>thomas_id</th>\n",
       "      <th>type</th>\n",
       "    </tr>\n",
       "  </thead>\n",
       "  <tbody>\n",
       "    <tr>\n",
       "      <th>0</th>\n",
       "      <td>HLIG</td>\n",
       "      <td>N000181</td>\n",
       "      <td>House Permanent Select Committee on Intelligence</td>\n",
       "      <td>HLIG</td>\n",
       "      <td>house</td>\n",
       "    </tr>\n",
       "    <tr>\n",
       "      <th>1</th>\n",
       "      <td>HLIG</td>\n",
       "      <td>C001062</td>\n",
       "      <td>House Permanent Select Committee on Intelligence</td>\n",
       "      <td>HLIG</td>\n",
       "      <td>house</td>\n",
       "    </tr>\n",
       "    <tr>\n",
       "      <th>2</th>\n",
       "      <td>HLIG</td>\n",
       "      <td>K000210</td>\n",
       "      <td>House Permanent Select Committee on Intelligence</td>\n",
       "      <td>HLIG</td>\n",
       "      <td>house</td>\n",
       "    </tr>\n",
       "    <tr>\n",
       "      <th>3</th>\n",
       "      <td>HLIG</td>\n",
       "      <td>T000463</td>\n",
       "      <td>House Permanent Select Committee on Intelligence</td>\n",
       "      <td>HLIG</td>\n",
       "      <td>house</td>\n",
       "    </tr>\n",
       "    <tr>\n",
       "      <th>4</th>\n",
       "      <td>HLIG</td>\n",
       "      <td>W000815</td>\n",
       "      <td>House Permanent Select Committee on Intelligence</td>\n",
       "      <td>HLIG</td>\n",
       "      <td>house</td>\n",
       "    </tr>\n",
       "  </tbody>\n",
       "</table>\n",
       "</div>"
      ],
      "text/plain": [
       "  comm_id   leg_id                                              name  \\\n",
       "0    HLIG  N000181  House Permanent Select Committee on Intelligence   \n",
       "1    HLIG  C001062  House Permanent Select Committee on Intelligence   \n",
       "2    HLIG  K000210  House Permanent Select Committee on Intelligence   \n",
       "3    HLIG  T000463  House Permanent Select Committee on Intelligence   \n",
       "4    HLIG  W000815  House Permanent Select Committee on Intelligence   \n",
       "\n",
       "  thomas_id   type  \n",
       "0      HLIG  house  \n",
       "1      HLIG  house  \n",
       "2      HLIG  house  \n",
       "3      HLIG  house  \n",
       "4      HLIG  house  "
      ]
     },
     "execution_count": 22,
     "metadata": {},
     "output_type": "execute_result"
    }
   ],
   "source": [
    "member_comm = member_df.merge(comm_df, left_on='comm_id', right_on='thomas_id')\n",
    "member_comm.head()"
   ]
  },
  {
   "cell_type": "code",
   "execution_count": 23,
   "metadata": {},
   "outputs": [
    {
     "data": {
      "text/plain": [
       "House Committee on Energy and Commerce                            48\n",
       "House Committee on Armed Services                                 48\n",
       "House Committee on Transportation and Infrastructure              47\n",
       "House Committee on Appropriations                                 44\n",
       "House Committee on Financial Services                             43\n",
       "House Committee on Agriculture                                    40\n",
       "House Committee on Foreign Affairs                                38\n",
       "House Committee on Natural Resources                              37\n",
       "House Committee on Oversight and Reform                           34\n",
       "House Committee on Science, Space, and Technology                 32\n",
       "Senate Committee on Appropriations                                31\n",
       "House Committee on Education and Labor                            30\n",
       "House Committee on the Judiciary                                  29\n",
       "House Committee on the Budget                                     28\n",
       "House Committee on Ways and Means                                 28\n",
       "House Committee on Homeland Security                              25\n",
       "Senate Committee on Commerce, Science, and Transportation         25\n",
       "Senate Committee on Armed Services                                23\n",
       "Senate Committee on Finance                                       23\n",
       "Senate Committee on Energy and Natural Resources                  22\n",
       "Senate Committee on the Budget                                    22\n",
       "Senate Committee on Health, Education, Labor, and Pensions        22\n",
       "Senate Committee on Environment and Public Works                  21\n",
       "Senate Committee on Banking, Housing, and Urban Affairs           21\n",
       "House Committee on Small Business                                 20\n",
       "House Committee on Veterans' Affairs                              19\n",
       "Senate Committee on Foreign Relations                             19\n",
       "Senate Committee on Rules and Administration                      19\n",
       "Senate Committee on Agriculture, Nutrition, and Forestry          19\n",
       "Senate Select Committee on Intelligence                           19\n",
       "Senate Committee on the Judiciary                                 19\n",
       "Senate Committee on Small Business and Entrepreneurship           18\n",
       "House Permanent Select Committee on Intelligence                  18\n",
       "Joint Economic Committee                                          15\n",
       "Senate Committee on Veterans' Affairs                             14\n",
       "Commission on Security and Cooperation in Europe                  14\n",
       "Senate Committee on Indian Affairs                                13\n",
       "Senate Committee on Homeland Security and Governmental Affairs    12\n",
       "Senate Special Committee on Aging                                 12\n",
       "House Committee on Rules                                          11\n",
       "House Committee on Ethics                                          7\n",
       "Joint Committee on the Library                                     7\n",
       "Senate Select Committee on Ethics                                  6\n",
       "Joint Committee on Printing                                        6\n",
       "House Committee on House Administration                            6\n",
       "Joint Committee on Taxation                                        5\n",
       "United States Senate Caucus on International Narcotics Control     5\n",
       "Name: name, dtype: int64"
      ]
     },
     "execution_count": 23,
     "metadata": {},
     "output_type": "execute_result"
    }
   ],
   "source": [
    "comm_sizes = member_comm['name'].value_counts()\n",
    "comm_sizes"
   ]
  },
  {
   "cell_type": "code",
   "execution_count": 24,
   "metadata": {},
   "outputs": [
    {
     "data": {
      "text/html": [
       "<div>\n",
       "<style scoped>\n",
       "    .dataframe tbody tr th:only-of-type {\n",
       "        vertical-align: middle;\n",
       "    }\n",
       "\n",
       "    .dataframe tbody tr th {\n",
       "        vertical-align: top;\n",
       "    }\n",
       "\n",
       "    .dataframe thead th {\n",
       "        text-align: right;\n",
       "    }\n",
       "</style>\n",
       "<table border=\"1\" class=\"dataframe\">\n",
       "  <thead>\n",
       "    <tr style=\"text-align: right;\">\n",
       "      <th></th>\n",
       "      <th>comm_id</th>\n",
       "      <th>leg_id</th>\n",
       "      <th>name</th>\n",
       "      <th>thomas_id</th>\n",
       "      <th>type</th>\n",
       "      <th>id</th>\n",
       "      <th>first</th>\n",
       "      <th>last</th>\n",
       "      <th>birthday</th>\n",
       "      <th>age</th>\n",
       "      <th>religion</th>\n",
       "    </tr>\n",
       "  </thead>\n",
       "  <tbody>\n",
       "    <tr>\n",
       "      <th>0</th>\n",
       "      <td>HLIG</td>\n",
       "      <td>N000181</td>\n",
       "      <td>House Permanent Select Committee on Intelligence</td>\n",
       "      <td>HLIG</td>\n",
       "      <td>house</td>\n",
       "      <td>N000181</td>\n",
       "      <td>Devin</td>\n",
       "      <td>Nunes</td>\n",
       "      <td>1973-10-01</td>\n",
       "      <td>45.364384</td>\n",
       "      <td>Roman Catholic</td>\n",
       "    </tr>\n",
       "    <tr>\n",
       "      <th>1</th>\n",
       "      <td>HSWM</td>\n",
       "      <td>N000181</td>\n",
       "      <td>House Committee on Ways and Means</td>\n",
       "      <td>HSWM</td>\n",
       "      <td>house</td>\n",
       "      <td>N000181</td>\n",
       "      <td>Devin</td>\n",
       "      <td>Nunes</td>\n",
       "      <td>1973-10-01</td>\n",
       "      <td>45.364384</td>\n",
       "      <td>Roman Catholic</td>\n",
       "    </tr>\n",
       "    <tr>\n",
       "      <th>2</th>\n",
       "      <td>HLIG</td>\n",
       "      <td>C001062</td>\n",
       "      <td>House Permanent Select Committee on Intelligence</td>\n",
       "      <td>HLIG</td>\n",
       "      <td>house</td>\n",
       "      <td>C001062</td>\n",
       "      <td>K.</td>\n",
       "      <td>Conaway</td>\n",
       "      <td>1948-06-11</td>\n",
       "      <td>70.687671</td>\n",
       "      <td>Baptist</td>\n",
       "    </tr>\n",
       "    <tr>\n",
       "      <th>3</th>\n",
       "      <td>HSAG</td>\n",
       "      <td>C001062</td>\n",
       "      <td>House Committee on Agriculture</td>\n",
       "      <td>HSAG</td>\n",
       "      <td>house</td>\n",
       "      <td>C001062</td>\n",
       "      <td>K.</td>\n",
       "      <td>Conaway</td>\n",
       "      <td>1948-06-11</td>\n",
       "      <td>70.687671</td>\n",
       "      <td>Baptist</td>\n",
       "    </tr>\n",
       "    <tr>\n",
       "      <th>4</th>\n",
       "      <td>HSAS</td>\n",
       "      <td>C001062</td>\n",
       "      <td>House Committee on Armed Services</td>\n",
       "      <td>HSAS</td>\n",
       "      <td>house</td>\n",
       "      <td>C001062</td>\n",
       "      <td>K.</td>\n",
       "      <td>Conaway</td>\n",
       "      <td>1948-06-11</td>\n",
       "      <td>70.687671</td>\n",
       "      <td>Baptist</td>\n",
       "    </tr>\n",
       "  </tbody>\n",
       "</table>\n",
       "</div>"
      ],
      "text/plain": [
       "  comm_id   leg_id                                              name  \\\n",
       "0    HLIG  N000181  House Permanent Select Committee on Intelligence   \n",
       "1    HSWM  N000181                 House Committee on Ways and Means   \n",
       "2    HLIG  C001062  House Permanent Select Committee on Intelligence   \n",
       "3    HSAG  C001062                    House Committee on Agriculture   \n",
       "4    HSAS  C001062                 House Committee on Armed Services   \n",
       "\n",
       "  thomas_id   type       id  first     last   birthday        age  \\\n",
       "0      HLIG  house  N000181  Devin    Nunes 1973-10-01  45.364384   \n",
       "1      HSWM  house  N000181  Devin    Nunes 1973-10-01  45.364384   \n",
       "2      HLIG  house  C001062     K.  Conaway 1948-06-11  70.687671   \n",
       "3      HSAG  house  C001062     K.  Conaway 1948-06-11  70.687671   \n",
       "4      HSAS  house  C001062     K.  Conaway 1948-06-11  70.687671   \n",
       "\n",
       "         religion  \n",
       "0  Roman Catholic  \n",
       "1  Roman Catholic  \n",
       "2         Baptist  \n",
       "3         Baptist  \n",
       "4         Baptist  "
      ]
     },
     "execution_count": 24,
     "metadata": {},
     "output_type": "execute_result"
    }
   ],
   "source": [
    "df = member_comm.merge(leg_df, left_on='leg_id', right_on='id')\n",
    "df.head()"
   ]
  },
  {
   "cell_type": "code",
   "execution_count": 25,
   "metadata": {},
   "outputs": [
    {
     "data": {
      "text/plain": [
       "name\n",
       "House Permanent Select Committee on Intelligence                  54.800457\n",
       "House Committee on House Administration                           54.911872\n",
       "Joint Economic Committee                                          55.162192\n",
       "House Committee on the Budget                                     56.561252\n",
       "House Committee on Armed Services                                 56.862329\n",
       "House Committee on Veterans' Affairs                              57.073828\n",
       "House Committee on Homeland Security                              57.305973\n",
       "House Committee on the Judiciary                                  58.057912\n",
       "House Committee on Foreign Affairs                                59.072603\n",
       "House Committee on Ethics                                         59.106849\n",
       "House Committee on Oversight and Reform                           59.187913\n",
       "House Committee on Financial Services                             59.193183\n",
       "House Committee on Agriculture                                    59.617877\n",
       "Senate Committee on Commerce, Science, and Transportation         60.405041\n",
       "Senate Committee on Indian Affairs                                60.451633\n",
       "House Committee on Small Business                                 60.513562\n",
       "House Committee on Natural Resources                              60.734321\n",
       "Senate Special Committee on Aging                                 60.859361\n",
       "House Committee on Energy and Commerce                            60.894977\n",
       "House Committee on Transportation and Infrastructure              61.007578\n",
       "House Committee on Ways and Means                                 61.356067\n",
       "House Committee on Rules                                          61.379328\n",
       "Senate Committee on Foreign Relations                             61.487239\n",
       "Senate Committee on Homeland Security and Governmental Affairs    61.657534\n",
       "House Committee on Science, Space, and Technology                 61.660531\n",
       "Senate Committee on Armed Services                                61.713877\n",
       "Senate Committee on Banking, Housing, and Urban Affairs           61.852316\n",
       "House Committee on Appropriations                                 62.112329\n",
       "Senate Committee on Small Business and Entrepreneurship           62.600304\n",
       "House Committee on Education and Labor                            62.893790\n",
       "Senate Committee on Energy and Natural Resources                  63.238107\n",
       "Senate Committee on Health, Education, Labor, and Pensions        63.540598\n",
       "Senate Committee on the Judiciary                                 64.055083\n",
       "Commission on Security and Cooperation in Europe                  64.845793\n",
       "Senate Committee on the Budget                                    64.921295\n",
       "Senate Committee on Agriculture, Nutrition, and Forestry          64.968421\n",
       "Senate Committee on Appropriations                                65.264163\n",
       "Senate Committee on Environment and Public Works                  65.366080\n",
       "Senate Select Committee on Intelligence                           65.693295\n",
       "Senate Committee on Finance                                       66.395473\n",
       "Senate Committee on Veterans' Affairs                             66.844227\n",
       "Senate Select Committee on Ethics                                 67.763927\n",
       "Joint Committee on Printing                                       67.831050\n",
       "Senate Committee on Rules and Administration                      70.081759\n",
       "Joint Committee on Taxation                                       71.126027\n",
       "Joint Committee on the Library                                    73.618004\n",
       "United States Senate Caucus on International Narcotics Control    75.453151\n",
       "Name: age, dtype: float64"
      ]
     },
     "execution_count": 25,
     "metadata": {},
     "output_type": "execute_result"
    }
   ],
   "source": [
    "comm_ages = df['age'].groupby(df['name']).mean().sort_values()\n",
    "comm_ages"
   ]
  },
  {
   "cell_type": "code",
   "execution_count": 26,
   "metadata": {},
   "outputs": [
    {
     "data": {
      "text/plain": [
       "58.620133682364596"
      ]
     },
     "execution_count": 26,
     "metadata": {},
     "output_type": "execute_result"
    }
   ],
   "source": [
    "leg_df['age'].mean()"
   ]
  },
  {
   "cell_type": "code",
   "execution_count": null,
   "metadata": {},
   "outputs": [],
   "source": [
    "member_count = member_df['leg_id'].value_counts().to_frame().reset_index()\n",
    "member_count.head()"
   ]
  },
  {
   "cell_type": "code",
   "execution_count": null,
   "metadata": {},
   "outputs": [],
   "source": [
    "member_count.columns = ['id', 'num_comms']\n",
    "member_count.head()"
   ]
  },
  {
   "cell_type": "code",
   "execution_count": null,
   "metadata": {},
   "outputs": [],
   "source": [
    "df = leg_df.merge(member_count, left_on='id', right_on='id')\n",
    "df.head()"
   ]
  },
  {
   "cell_type": "code",
   "execution_count": null,
   "metadata": {},
   "outputs": [],
   "source": [
    "import seaborn as sns\n",
    "sns.lmplot(x='age', y='num_comms', data=df, fit_reg=True);"
   ]
  }
 ],
 "metadata": {
  "kernelspec": {
   "display_name": "Python 3",
   "language": "python",
   "name": "python3"
  },
  "language_info": {
   "codemirror_mode": {
    "name": "ipython",
    "version": 3
   },
   "file_extension": ".py",
   "mimetype": "text/x-python",
   "name": "python",
   "nbconvert_exporter": "python",
   "pygments_lexer": "ipython3",
   "version": "3.6.7"
  }
 },
 "nbformat": 4,
 "nbformat_minor": 2
}
